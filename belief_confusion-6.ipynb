{
 "cells": [
  {
   "cell_type": "code",
   "execution_count": null,
   "metadata": {
    "collapsed": true
   },
   "outputs": [],
   "source": [
    "%matplotlib inline\n",
    "\n",
    "import matplotlib\n",
    "import matplotlib.pyplot as plt\n",
    "\n",
    "import numpy  as np\n",
    "import pandas as pd\n",
    "\n",
    "import os\n",
    "\n",
    "DETDIR='results/Main/'\n",
    "models= ['google','alex']\n",
    "compid = {'google': 'comp4_1460de5d-d642-42d1-9df0-fe9db3773178',\n",
    "          'alex'  : 'comp4_2bf10b1f-a0f9-4006-a809-f3d507372676'}\n",
    "pars = ['','eminus','proton','pizero','muminus','gamma','piminus']"
   ]
  },
  {
   "cell_type": "code",
   "execution_count": null,
   "metadata": {
    "collapsed": false
   },
   "outputs": [],
   "source": [
    "detections = {'google' : [f for f in os.listdir(DETDIR) if f.startswith(compid['google'])],\n",
    "              'alex'   : [f for f in os.listdir(DETDIR) if f.startswith(compid['alex'])] }"
   ]
  },
  {
   "cell_type": "code",
   "execution_count": null,
   "metadata": {
    "collapsed": false
   },
   "outputs": [],
   "source": [
    "pre_frames = {}\n",
    "for model in models:\n",
    "    frames = []\n",
    "    for det in detections[model]:\n",
    "        frames.append(pd.read_csv(os.path.join(DETDIR,det),\n",
    "                                  delimiter=' ',names=['file','prob','xmin','ymin','xmax','ymax','pred_class']) )\n",
    "    pre_frames[model] = frames"
   ]
  },
  {
   "cell_type": "code",
   "execution_count": null,
   "metadata": {
    "collapsed": true
   },
   "outputs": [],
   "source": [
    "df_frames = {}\n",
    "for model in models:\n",
    "    pred_df = pd.concat(pre_frames[model],ignore_index=True)\n",
    "    df_frames[model] = pred_df"
   ]
  },
  {
   "cell_type": "code",
   "execution_count": null,
   "metadata": {
    "collapsed": false
   },
   "outputs": [],
   "source": [
    "#Check a single result\n",
    "alex_df = df_frames['alex']\n",
    "alex_df[alex_df['file'] == 'muminus008457'].sort_values(by='prob',ascending=False).iloc[0:5]"
   ]
  },
  {
   "cell_type": "code",
   "execution_count": null,
   "metadata": {
    "collapsed": false
   },
   "outputs": [],
   "source": [
    "alex_df.file.unique().size"
   ]
  },
  {
   "cell_type": "code",
   "execution_count": null,
   "metadata": {
    "collapsed": true
   },
   "outputs": [],
   "source": [
    "import re\n",
    "truth = re.compile(\"^([a-z]+)[0-9]+\")\n",
    "\n",
    "def get_gt(row): \n",
    "    return pars.index(truth.search(row.file).group(1))"
   ]
  },
  {
   "cell_type": "code",
   "execution_count": null,
   "metadata": {
    "collapsed": false
   },
   "outputs": [],
   "source": [
    "# Go row by row and mark the groundtruth\n",
    "\n",
    "for model in models:\n",
    "    the_df = df_frames[model]\n",
    "    the_df['gt'] = the_df.apply(get_gt,axis=1)"
   ]
  },
  {
   "cell_type": "code",
   "execution_count": null,
   "metadata": {
    "collapsed": false
   },
   "outputs": [],
   "source": [
    "ious = []\n",
    "probs = []\n",
    "im_df = {}\n",
    "for model in models:\n",
    "    pred_df = df_frames[model]\n",
    "    im = {}\n",
    "    for ix,image in enumerate(pred_df.file.unique()):\n",
    "        df = pred_df[pred_df['file'] == image].sort_values(by='prob',ascending=False)\n",
    "        top = df.iloc[0] # take only the top prediction\n",
    "        \n",
    "        im[image] = {'gt':top['gt'],'top_pred_class':top['pred_class'],'top_prob':top['prob']}\n",
    "\n",
    "    im_df[model] = pd.DataFrame(im).T"
   ]
  },
  {
   "cell_type": "code",
   "execution_count": null,
   "metadata": {
    "collapsed": false
   },
   "outputs": [],
   "source": [
    "ar = lambda x, y : np.arange(0,x,y)"
   ]
  },
  {
   "cell_type": "code",
   "execution_count": null,
   "metadata": {
    "collapsed": false
   },
   "outputs": [],
   "source": [
    "matplotlib.rcParams['font.size']=14\n",
    "matplotlib.rcParams['font.family']='serif'"
   ]
  },
  {
   "cell_type": "code",
   "execution_count": null,
   "metadata": {
    "collapsed": false,
    "scrolled": false
   },
   "outputs": [],
   "source": [
    "inc = 0.01\n",
    "\n",
    "\n",
    "\n",
    "npars = len(pars) - 1\n",
    "for pred in xrange(npars):\n",
    "    pred += 1\n",
    "    a = {}\n",
    "    c = 0\n",
    "    fig,ax = plt.subplots(figsize=(15,6))\n",
    "    for model in models:\n",
    "        c+=1\n",
    "        model_df = im_df[model]\n",
    "        ax = plt.subplot(1,2,c)\n",
    "\n",
    "        for i in xrange(npars):\n",
    "            i += 1    \n",
    "            res = []\n",
    "            for j in ar(1,inc):\n",
    "                bot = model_df[model_df['top_pred_class'] == pred].query('top_prob > {}'.format(j))\n",
    "                top = bot.query('gt == {}'.format(i))\n",
    "                bot = float(bot.values.size)\n",
    "                top = float(top.values.size)\n",
    "                r = top/bot if bot > 0.0 else 0.0\n",
    "                res.append(r * 100.0)\n",
    "                a[i] = res\n",
    "\n",
    "\n",
    "        ax.hist([ar(1,inc) for _ in range(npars)],bins=ar(1+inc,inc),\n",
    "                weights=[a[r] for r in a],\n",
    "                stacked=True,histtype='stepfilled',alpha=0.65,label=[pars[r] for r in a])\n",
    "        ax.set_ylim(0,100)\n",
    "        ax.legend(loc='best',fontsize=12)\n",
    "        \n",
    "        ax.set_title(\"Detection: {} - Model: {}\".format(pars[pred],model),fontweight='bold')\n",
    "        ax.set_ylabel(\"Percent Truth\",fontweight='bold')\n",
    "        ax.set_xlabel(\"Prob. Threshold\",fontweight='bold')\n",
    "    plt.savefig('{}_detection_truth_{}_{}.pdf'.format(model,pars[pred],npars), format='pdf', dpi=1000)\n",
    "    plt.show()"
   ]
  },
  {
   "cell_type": "code",
   "execution_count": null,
   "metadata": {
    "collapsed": false,
    "scrolled": false
   },
   "outputs": [],
   "source": [
    "inc = 0.01\n",
    "\n",
    "npars = len(pars) - 1\n",
    "for pred in xrange(npars):\n",
    "    pred += 1\n",
    "    a = {}\n",
    "    c = 0\n",
    "    fig,ax = plt.subplots(figsize=(15,6))\n",
    "    for model in models:\n",
    "        c+=1\n",
    "        model_df = im_df[model]\n",
    "        ax = plt.subplot(1,2,c)\n",
    "\n",
    "        for i in xrange(npars):\n",
    "            i += 1    \n",
    "            res = []\n",
    "            for j in ar(1,inc):\n",
    "                bot = model_df[model_df['gt'] == pred].query('top_prob > {}'.format(j))\n",
    "                top = bot.query('top_pred_class == {}'.format(i))\n",
    "                bot = float(bot.values.size)\n",
    "                top = float(top.values.size)\n",
    "                r = top/bot if bot > 0.0 else 0.0\n",
    "                res.append(r * 100.0)\n",
    "                a[i] = res\n",
    "\n",
    "        ax.hist([ar(1,inc) for _ in range(npars)],bins=ar(1+inc,inc),\n",
    "                weights=[a[r] for r in a],\n",
    "                stacked=True,histtype='stepfilled',alpha=0.65,label=[pars[r] for r in a])\n",
    "        ax.set_ylim(0,100)\n",
    "        ax.legend(loc='best',fontsize=12)\n",
    "        \n",
    "        ax.set_title(\"Truth: {} - Model: {}\".format(pars[pred],model),fontweight='bold')\n",
    "        ax.set_ylabel(\"Percent Detected\",fontweight='bold')\n",
    "        ax.set_xlabel(\"Prob. Threshold\",fontweight='bold')\n",
    "    plt.savefig('{}_truth_detection_{}_{}.pdf'.format(model,pars[pred],npars), format='pdf', dpi=1000)\n",
    "    plt.show()"
   ]
  },
  {
   "cell_type": "code",
   "execution_count": null,
   "metadata": {
    "collapsed": true
   },
   "outputs": [],
   "source": []
  }
 ],
 "metadata": {
  "kernelspec": {
   "display_name": "Python 2",
   "language": "python",
   "name": "python2"
  },
  "language_info": {
   "codemirror_mode": {
    "name": "ipython",
    "version": 2
   },
   "file_extension": ".py",
   "mimetype": "text/x-python",
   "name": "python",
   "nbconvert_exporter": "python",
   "pygments_lexer": "ipython2",
   "version": "2.7.10"
  }
 },
 "nbformat": 4,
 "nbformat_minor": 0
}
