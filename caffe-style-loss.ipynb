{
 "cells": [
  {
   "cell_type": "code",
   "execution_count": null,
   "metadata": {
    "collapsed": true
   },
   "outputs": [],
   "source": [
    "%matplotlib inline\n",
    "import matplotlib\n",
    "import matplotlib.pyplot as plt\n",
    "import numpy as np\n",
    "import pandas as pd\n",
    "import re\n",
    "from datetime import datetime\n",
    "import os"
   ]
  },
  {
   "cell_type": "code",
   "execution_count": null,
   "metadata": {
    "collapsed": false
   },
   "outputs": [],
   "source": [
    "DIR = \"trials/\"\n",
    "\n",
    "#FILES = [\"caffe.wu.vgenty.log.INFO.20160511-184016.16450\",\n",
    "#         \"caffe.wu.vgenty.log.INFO.20160511-210724.24028\",\n",
    "#         \"caffe.wu.vgenty.log.INFO.20160511-233906.27946\",\n",
    "#         \"caffe.wu.vgenty.log.INFO.20160512-080304.9249\",\n",
    "#         \"caffe.wu.vgenty.log.INFO.20160512-165623.22519\",\n",
    "#         \"caffe.wu.vgenty.log.INFO.20160512-191117.2182\"]\n",
    "\n",
    "#FILES=[\"caffe.wu.vgenty.log.INFO.20160515-164420.7115\",\n",
    "#       \"caffe.wu.vgenty.log.INFO.20160516-000242.9477\",\n",
    "#       \"caffe.wu.vgenty.log.INFO.20160516-094927.31426\"]\n",
    "FILES = [\"caffe.wu.vgenty.log.INFO.20160517-164907.22335\",\n",
    "         \"caffe.wu.vgenty.log.INFO.20160517-170439.3152\"]\n",
    "FILES = [os.path.join(DIR,f) for f  in FILES]\n",
    "#for F in FILES:\n",
    "#    os.system(\"scp vgenty@wu.nevis.columbia.edu:/tmp/{} .\".format(F))"
   ]
  },
  {
   "cell_type": "code",
   "execution_count": null,
   "metadata": {
    "collapsed": false,
    "scrolled": false
   },
   "outputs": [],
   "source": [
    "read = []\n",
    "for F in FILES:\n",
    "    with open(F) as f:\n",
    "        read.append(f.read())\n",
    "\n",
    "iterations = [r.split(\"solver.cpp:228]\")[1:] for r in read]"
   ]
  },
  {
   "cell_type": "code",
   "execution_count": null,
   "metadata": {
    "collapsed": false,
    "scrolled": false
   },
   "outputs": [],
   "source": [
    "frames = []\n",
    "for ix,iteration in enumerate(iterations):\n",
    "    fig,ax=plt.subplots(figsize=(10,6))\n",
    "\n",
    "    rr = {\"Iteration\" : re.compile(\"Iteration\\s(\\d+)\\,\"),\n",
    "          \"loss\"      : re.compile(\"\\,\\sloss\\s\\=\\s(\\d+\\.\\d+(e\\-\\d+)?)\\s\"),\n",
    "          \"acc\"       : re.compile(\"acc\\s\\=\\s(\\d+\\.*\\d*(e\\-\\d+)?)\\s\")}\n",
    "    di = {\"Iteration\" : [],\n",
    "          \"loss\" : [],\n",
    "          \"acc\" : []}\n",
    "\n",
    "    for i in iteration:\n",
    "        for r in rr:\n",
    "            a = rr[r].search(i)\n",
    "            if a is None: \n",
    "                continue\n",
    "            a = a.group(1)   \n",
    "            a = float(a)\n",
    "            di[r].append(a)\n",
    "\n",
    "    # converting to series means pandas will be O.K. with unequal length\n",
    "    # lists\n",
    "    for key,val in di.iteritems():\n",
    "        di[key] = pd.Series(val)\n",
    "\n",
    "    df = pd.DataFrame.from_dict(di)   \n",
    "    #############################\n",
    "    frames.append(df)\n",
    "    print df.shape\n",
    "    matplotlib.rcParams['font.size'] = 16\n",
    "    \n",
    "    batch = 64\n",
    "    ntotal = 2*105786\n",
    "\n",
    "    ax.plot(df.Iteration.values*batch/ntotal,\n",
    "            df.loss.rolling(window=1).mean(),'-',color='blue',lw=2,label='loss',alpha=0.6)\n",
    "    ax.plot(df.Iteration.values*batch/ntotal,\n",
    "            df.loss.rolling(window=10).mean(),'-',color='red',lw=2,label='avg')\n",
    "\n",
    "    ax2 = ax.twinx()\n",
    "    ax2.plot(df.Iteration.values*batch/ntotal,\n",
    "             df.acc.rolling(window=1).mean(),'-',label='acc',color='green',lw=2,alpha=0.6)\n",
    "    ax2.plot(df.Iteration.values*batch/ntotal,\n",
    "             df.acc.rolling(window=10).mean(),'-',label='avg',color='orange',lw=2)\n",
    "\n",
    "    #ax.legend(loc='best')\n",
    "\n",
    "    ax.set_xlabel(\"Epoch\",fontweight='bold')\n",
    "    ax.set_ylabel(\"Loss\",fontweight='bold')\n",
    "    ax.set_ylim(0.0,10.0)\n",
    "    ax2.set_ylim(0.0,1.0)\n",
    "    ax2.set_ylabel(\"Accuracy\",fontweight='bold')\n",
    "    ax.legend(loc='upper left')\n",
    "    ax2.legend(loc='upper right')\n",
    "    plt.savefig('b_{}.png'.format(ix), format='png', dpi=500)\n",
    "    plt.show()"
   ]
  },
  {
   "cell_type": "code",
   "execution_count": null,
   "metadata": {
    "collapsed": false
   },
   "outputs": [],
   "source": [
    "scores = sorted([S for S in os.listdir(\".\") if S.endswith(\".txt\") and S.startswith(\"13\") or S.startswith(\"14\")],key=lambda s : int(s[:2]))\n",
    "print scores\n",
    "DF = [pd.read_csv(S,sep=' ',header=None,names=['file']+list(np.arange(1,6,1))) for S in scores]\n",
    "\n",
    "import re\n",
    "N = re.compile(\"iter\\_([0-9]+).caffemodel\")\n",
    "def iteration(row):\n",
    "    return N.search(row['file']).group(1)\n",
    "\n",
    "for D in DF:\n",
    "    D['iteration'] = D.apply(iteration,axis=1)\n",
    "    D.drop('file',1,inplace=True)\n",
    "    D.drop(5,1,inplace=True)\n",
    "\n",
    "DFF = pd.concat(DF)"
   ]
  },
  {
   "cell_type": "code",
   "execution_count": null,
   "metadata": {
    "collapsed": false
   },
   "outputs": [],
   "source": [
    "prevRow = 0\n",
    "cc = 0\n",
    "series = {}\n",
    "series['iter'] = []\n",
    "series['acc'] = []\n",
    "\n",
    "for ix,row in enumerate(DFF.iterrows()):    \n",
    "    ii = float(row[1][-1])\n",
    "    mean = float(row[1][0:-1].mean())\n",
    "\n",
    "    if prevRow < ii:\n",
    "        diff = ii - prevRow\n",
    "        prevRow = ii\n",
    "    else:\n",
    "        diff = ii\n",
    "        prevRow = ii\n",
    "\n",
    "    cc+=diff\n",
    "    series[\"iter\"].append(cc)\n",
    "    series[\"acc\"].append(mean)\n",
    "\n",
    "val_df = pd.DataFrame(series)\n",
    "print val_df['iter'].values"
   ]
  },
  {
   "cell_type": "code",
   "execution_count": null,
   "metadata": {
    "collapsed": true
   },
   "outputs": [],
   "source": [
    "cdf = pd.concat(frames)"
   ]
  },
  {
   "cell_type": "code",
   "execution_count": null,
   "metadata": {
    "collapsed": false
   },
   "outputs": [],
   "source": [
    "matplotlib.rcParams['font.family'] = 'serif'\n",
    "fig,ax=plt.subplots(figsize=(10,6))\n",
    "ax.plot(np.arange(0,cdf.index.values.size,1.0)*batch/ntotal,\n",
    "         cdf.acc.rolling(window=1).mean(),color='green',alpha=0.5,label='train acc per batch (64)')\n",
    "ax.plot(np.arange(0,cdf.index.values.size,1.0)*batch/ntotal,\n",
    "         cdf.acc.rolling(window=20).mean(),color='orange',alpha=1,label='avg train acc (20 iters)')\n",
    "ax.plot(val_df['iter'].values*batch/ntotal,\n",
    "        val_df['acc'].values,'-',label='test acc (100 random)',alpha=0.9)\n",
    "#ax.axvline(x=0.6,color=\"purple\")\n",
    "#ax.axvline(x=1.2,color=\"purple\")\n",
    "#ax.axvline(x=1.2+1.7,color=\"purple\")\n",
    "#ax.axvline(x=1.2+1.7+1.7,color=\"purple\")\n",
    "#ax.axvline(x=1.2+1.7+1.7+2.0,color=\"purple\")\n",
    "#ax.axvline(x=1.2+1.7+1.7+2.0+0.5,color=\"purple\")\n",
    "ax.set_xlabel(\"Epoch\",fontweight='bold')\n",
    "ax.set_ylabel(\"Acc\",fontweight='bold')\n",
    "ax.set_ylim(0.0,1.0)\n",
    "ax.legend(loc='lower right')\n",
    "ax.grid()\n",
    "plt.savefig('a_acc7.png'.format(ix), format='png', dpi=500)\n",
    "plt.show()"
   ]
  },
  {
   "cell_type": "code",
   "execution_count": null,
   "metadata": {
    "collapsed": false
   },
   "outputs": [],
   "source": [
    "fig,ax=plt.subplots(figsize=(10,6))\n",
    "ax.plot(np.arange(0,cdf.index.values.size,1.0)*batch/ntotal,\n",
    "         cdf.loss.rolling(window=1).mean(),color='blue',alpha=0.5)\n",
    "ax.plot(np.arange(0,cdf.index.values.size,1.0)*batch/ntotal,\n",
    "         cdf.loss.rolling(window=20).mean(),color='red')\n",
    "#ax.axvline(x=0.6,color=\"purple\")\n",
    "#ax.axvline(x=1.2,color=\"purple\")\n",
    "#ax.axvline(x=1.2+1.7,color=\"purple\")\n",
    "#ax.axvline(x=1.2+1.7+1.7,color=\"purple\")\n",
    "#x.axvline(x=1.2+1.7+1.7+2.0,color=\"purple\")\n",
    "#ax.axvline(x=1.2+1.7+1.7+2.0+0.5,color=\"purple\")\n",
    "ax.set_xlabel(\"Epoch\",fontweight='bold')\n",
    "ax.set_ylabel(\"Loss\",fontweight='bold')\n",
    "\n",
    "ax.set_ylim(0.0,3.0)\n",
    "ax.grid()\n",
    "plt.savefig('a_loss7.png'.format(ix), format='png', dpi=500)\n",
    "plt.show()"
   ]
  },
  {
   "cell_type": "code",
   "execution_count": null,
   "metadata": {
    "collapsed": false
   },
   "outputs": [],
   "source": [
    "val_df.to_csv(\"google_lowres.txt\")"
   ]
  },
  {
   "cell_type": "code",
   "execution_count": null,
   "metadata": {
    "collapsed": true
   },
   "outputs": [],
   "source": []
  }
 ],
 "metadata": {
  "kernelspec": {
   "display_name": "Python 2",
   "language": "python",
   "name": "python2"
  },
  "language_info": {
   "codemirror_mode": {
    "name": "ipython",
    "version": 2
   },
   "file_extension": ".py",
   "mimetype": "text/x-python",
   "name": "python",
   "nbconvert_exporter": "python",
   "pygments_lexer": "ipython2",
   "version": "2.7.10"
  }
 },
 "nbformat": 4,
 "nbformat_minor": 0
}
