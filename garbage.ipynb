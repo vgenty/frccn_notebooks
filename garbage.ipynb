{
 "cells": [
  {
   "cell_type": "code",
   "execution_count": null,
   "metadata": {
    "collapsed": true
   },
   "outputs": [],
   "source": [
    "%matplotlib inline\n",
    "import matplotlib\n",
    "import matplotlib.pyplot as plt\n",
    "\n",
    "import numpy as np\n",
    "import pandas as pd"
   ]
  },
  {
   "cell_type": "code",
   "execution_count": null,
   "metadata": {
    "collapsed": false
   },
   "outputs": [],
   "source": [
    "kind = [\"alex_hires\",\"alex_lowres\"]\n",
    "\n",
    "dfs = [ pd.read_csv(\"now/hires/alex_test.prototxt_scores.txt\"),\n",
    "        pd.read_csv(\"now/lores/alex_test.prototxtxt_lowres_scores.txt\")]"
   ]
  },
  {
   "cell_type": "code",
   "execution_count": null,
   "metadata": {
    "collapsed": false,
    "scrolled": true
   },
   "outputs": [],
   "source": [
    "def amax(row):\n",
    "    return int(np.argmax(row[1:6]))\n",
    "\n",
    "for df in dfs:\n",
    "    \n",
    "    softmaxes = []\n",
    "    for ix, row in df.iterrows():\n",
    "        ex = np.exp(row[1:6])\n",
    "        softmaxes.append(np.array(ex / np.sum(ex)))\n",
    "    \n",
    "    df['infer'] = df.apply(amax,axis=1)\n",
    "    df['softmax'] = pd.Series(softmaxes)"
   ]
  },
  {
   "cell_type": "code",
   "execution_count": null,
   "metadata": {
    "collapsed": false
   },
   "outputs": [],
   "source": [
    "def top_prob(row):\n",
    "    return np.max(row['softmax'])\n",
    "\n",
    "for df in dfs:\n",
    "    df['top_prob'] = df.apply(top_prob, axis=1)"
   ]
  },
  {
   "cell_type": "code",
   "execution_count": null,
   "metadata": {
    "collapsed": false
   },
   "outputs": [],
   "source": [
    "particles = ['Eminus','Gamma','Muminus','Piminus','Proton']\n",
    "pars = ['','Eminus','Gamma','Muminus','Piminus','Proton']\n",
    "particles_df = {}\n",
    "\n",
    "\n",
    "for ix,p in enumerate(particles):\n",
    "    particles_df[p] = dfs[1].query('gt == {}'.format(ix))\n"
   ]
  },
  {
   "cell_type": "code",
   "execution_count": null,
   "metadata": {
    "collapsed": false,
    "scrolled": false
   },
   "outputs": [],
   "source": [
    "matplotlib.rcParams['font.size'] = 16\n",
    "freqs = []\n",
    "\n",
    "for par in particles:\n",
    "    fig, ax = plt.subplots(figsize=(10,6))\n",
    "    dec = []\n",
    "    n = float(particles_df[par].index.size)\n",
    "    for ix,p in enumerate(particles):\n",
    "        dec.append(particles_df[par].query('infer == %d' % ix).index.size / n)\n",
    "\n",
    "    ax.hist(np.arange(0,5.0,1.0),\n",
    "            bins=np.arange(0,6.0,1.0),\n",
    "            weights=np.array(dec)*100.0,label='True {}'.format(par,int(n)))\n",
    "    \n",
    "    freqs.append(dec)\n",
    "    \n",
    "    ax.set_ylim(0,100)\n",
    "    ax.yaxis.grid()\n",
    "    ax.set_ylabel(\"Classified %\",fontweight='bold')\n",
    "\n",
    "    ax.set_xticks(np.arange(0.5,5.5,1.0))\n",
    "    ax.set_xticklabels(particles)\n",
    "    ax.set_title(\"LowRes Image\")\n",
    " \n",
    "    ax.legend(loc='best')\n",
    "    plt.savefig('lowres_single_plane_%d_class_%s_%s.pdf' %(len(particles),kind[0],par), format='pdf', dpi=1000)\n",
    "    plt.show()"
   ]
  },
  {
   "cell_type": "code",
   "execution_count": null,
   "metadata": {
    "collapsed": false
   },
   "outputs": [],
   "source": [
    "particles = ['Eminus','Gamma','Muminus','Piminus','Proton']\n",
    "pars = ['','Eminus','Gamma','Muminus','Piminus','Proton']\n",
    "particles_df = {}\n",
    "\n",
    "\n",
    "for ix,p in enumerate(particles):\n",
    "    particles_df[p] = dfs[0].query('gt == {}'.format(ix))\n",
    "\n",
    "matplotlib.rcParams['font.size'] = 16\n",
    "freqs = []\n",
    "\n",
    "for par in particles:\n",
    "    fig, ax = plt.subplots(figsize=(10,6))\n",
    "    dec = []\n",
    "    n = float(particles_df[par].index.size)\n",
    "    for ix,p in enumerate(particles):\n",
    "        dec.append(particles_df[par].query('infer == %d' % ix).index.size / n)\n",
    "\n",
    "    ax.hist(np.arange(0,5.0,1.0),\n",
    "            bins=np.arange(0,6.0,1.0),\n",
    "            weights=np.array(dec)*100.0,label='True {}'.format(par,int(n)))\n",
    "    \n",
    "    freqs.append(dec)\n",
    "    \n",
    "    ax.set_ylim(0,100)\n",
    "    ax.yaxis.grid()\n",
    "    ax.set_ylabel(\"Classified %\",fontweight='bold')\n",
    "\n",
    "    ax.set_xticks(np.arange(0.5,5.5,1.0))\n",
    "    ax.set_xticklabels(particles)\n",
    "    ax.set_title(\"HiRes Image\")\n",
    " \n",
    "    ax.legend(loc='best')\n",
    "    plt.savefig('hiresres_single_plane_%d_class_%s_%s.pdf' %(len(particles),kind[0],par), format='pdf', dpi=1000)\n",
    "    plt.show()"
   ]
  },
  {
   "cell_type": "code",
   "execution_count": null,
   "metadata": {
    "collapsed": false
   },
   "outputs": [],
   "source": [
    "dfs[1]"
   ]
  },
  {
   "cell_type": "code",
   "execution_count": null,
   "metadata": {
    "collapsed": false,
    "scrolled": false
   },
   "outputs": [],
   "source": [
    "a = np.array(freqs)\n",
    "\n",
    "fig,ax = plt.subplots(figsize=(12,8))\n",
    "im = ax.matshow(np.array(a),origin='bottom')\n",
    "ax.xaxis.set_ticks_position('bottom')\n",
    "ax.set_xticklabels([''] + particles,rotation=45,fontweight='bold')\n",
    "ax.set_yticklabels([''] + particles,fontweight='bold')\n",
    "ax.set_title(\"Confusion Matrix\",fontweight='bold')\n",
    "plt.colorbar(im)\n",
    "plt.tight_layout()\n",
    "ax.text(4.5,2,\"Percent Fraction\",rotation=270,fontweight='bold')\n",
    "plt.savefig('5_class_confusion_matrix_{}.pdf'.format(kind), format='pdf', dpi=1000)\n",
    "plt.show()"
   ]
  },
  {
   "cell_type": "code",
   "execution_count": null,
   "metadata": {
    "collapsed": true
   },
   "outputs": [],
   "source": [
    "ar = lambda x, y : np.arange(0,x,y)\n",
    "matplotlib.rcParams['font.size']=14\n",
    "matplotlib.rcParams['font.family']='serif'"
   ]
  },
  {
   "cell_type": "code",
   "execution_count": null,
   "metadata": {
    "collapsed": false,
    "scrolled": false
   },
   "outputs": [],
   "source": [
    "inc = 0.01\n",
    "\n",
    "npars = len(pars) - 1\n",
    "\n",
    "for pred in xrange(npars):\n",
    "    a = {}\n",
    "    fig,ax = plt.subplots(figsize=(12,6))\n",
    "    model_df = df\n",
    "\n",
    "    for i in xrange(npars):\n",
    "        res = []\n",
    "        for j in ar(1,inc):\n",
    "            bot = model_df[model_df['infer'] == pred].query('top_prob > {}'.format(j))\n",
    "            top = bot.query('gt == {}'.format(float(i)))\n",
    "            bot = float(bot.index.size)\n",
    "            top = float(top.index.size)\n",
    "            r = top/bot if bot > 0.0 else 0.0\n",
    "            res.append(r * 100.0)\n",
    "            a[i] = res\n",
    "\n",
    "    ax.hist([ar(1,inc) for _ in range(npars)],bins=ar(1+inc,inc),\n",
    "            weights=[a[r] for r in a],\n",
    "            stacked=True,histtype='stepfilled',alpha=0.65,label=[particles[r] for r in a])\n",
    "    ax.set_ylim(0,100)\n",
    "    ax.legend(loc='best',fontsize=12)\n",
    "\n",
    "    ax.set_title(\"Classification: {} - Model: {}\".format(particles[pred],kind),fontweight='bold')\n",
    "    ax.set_ylabel(\"Percent Truth\",fontweight='bold')\n",
    "    ax.set_xlabel(\"Prob. Threshold\",fontweight='bold')\n",
    "    plt.savefig('{}_alex_classification_truth_{}_{}.pdf'.format(kind,particles[pred],npars), format='pdf', dpi=1000)\n",
    "    plt.show()"
   ]
  },
  {
   "cell_type": "code",
   "execution_count": null,
   "metadata": {
    "collapsed": false,
    "scrolled": false
   },
   "outputs": [],
   "source": [
    "inc = 0.01\n",
    "\n",
    "npars = len(pars) - 1\n",
    "\n",
    "for pred in xrange(npars):\n",
    "    a = {}\n",
    "    fig,ax = plt.subplots(figsize=(12,6))\n",
    "    model_df = df\n",
    "\n",
    "    for i in xrange(npars):\n",
    "        res = []\n",
    "        for j in ar(1,inc):\n",
    "            bot = model_df[model_df['infer'] == pred].query('top_prob > {}'.format(j))\n",
    "            top = bot.query('gt == {}'.format(i))\n",
    "            bot = float(bot.index.size)\n",
    "            top = float(top.index.size)\n",
    "            r = top/bot if bot > 0.0 else 0.0\n",
    "            res.append(r * 100.0)\n",
    "            a[i] = res\n",
    "\n",
    "    ax.hist([ar(1,inc) for _ in range(npars)],bins=ar(1+inc,inc),\n",
    "            weights=[a[r] for r in a],\n",
    "            stacked=True,histtype='stepfilled',alpha=0.65,label=[particles[r] for r in a])\n",
    "    ax.set_ylim(0,100)\n",
    "    ax.legend(loc='best',fontsize=12)\n",
    "\n",
    "    ax.set_title(\"Truth: {} - Model: {}\".format(particles[pred],kind),fontweight='bold')\n",
    "    ax.set_ylabel(\"Percent Classified\",fontweight='bold')\n",
    "    ax.set_xlabel(\"Prob. Threshold\",fontweight='bold')\n",
    "    plt.savefig('{}_alex_truth_classification{}_{}.pdf'.format(kind,particles[pred],npars), format='pdf', dpi=1000)\n",
    "    plt.show()"
   ]
  },
  {
   "cell_type": "code",
   "execution_count": null,
   "metadata": {
    "collapsed": false,
    "scrolled": false
   },
   "outputs": [],
   "source": [
    "inc = 0.01\n",
    "\n",
    "npars = len(pars) - 1\n",
    "\n",
    "for pred in xrange(npars):\n",
    "    a = {}\n",
    "    fig,ax = plt.subplots(figsize=(12,6))\n",
    "    model_df = df\n",
    "    b = None\n",
    "\n",
    "    for i in xrange(npars):\n",
    "        res = []\n",
    "        b = []\n",
    "        for j in ar(1,inc):\n",
    "            bot = model_df[model_df['gt'] == pred]\n",
    "            top = bot.query('infer == {} & top_prob > {}'.format(i,j))\n",
    "            bot = float(bot.index.size)\n",
    "            top = float(top.index.size)\n",
    "            r = top/bot if bot > 0.0 else 0.0\n",
    "            res.append(r * 100.0)\n",
    "            a[i] = res\n",
    "\n",
    "        #ax.plot(ar(1,inc),np.array(a[i]),lw=2,label=particles[i])\n",
    "       \n",
    "    ax.hist([ar(1,inc) for _ in range(npars)],bins=ar(1+inc,inc),\n",
    "            weights=[a[r] for r in a],\n",
    "            stacked=True,histtype='stepfilled',alpha=0.65,label=[particles[r] for r in a])\n",
    "    ax.set_ylim(0,100)\n",
    "    ax.legend(loc='best',fontsize=12)\n",
    "\n",
    "    ax.set_title(\"Efficiency. Truth: {} - Model: {}\".format(particles[pred],kind),fontweight='bold')\n",
    "    ax.set_ylabel(\"Percent Classified\",fontweight='bold')\n",
    "    ax.set_xlabel(\"Prob. Threshold\",fontweight='bold')\n",
    "    plt.savefig('efficiency_{}_alex_truth_classification{}_{}.pdf'.format(kind,particles[pred],npars), \n",
    "                format='pdf', \n",
    "                dpi=1000)\n",
    "    plt.show()\n"
   ]
  },
  {
   "cell_type": "code",
   "execution_count": null,
   "metadata": {
    "collapsed": false
   },
   "outputs": [],
   "source": [
    "\n",
    "for ix,par in enumerate(particles):\n",
    "    b = []\n",
    "\n",
    "    for j in ar(1,inc):\n",
    "        b.append(float(df.query('gt == {} and top_prob > {}'.format(ix,j)).index.size))\n",
    "    \n",
    "    fig,ax = plt.subplots(figsize=(12,6))\n",
    "    ax.plot(ar(1,0.01),b)\n",
    "    ax.set_title(\"Set of {} Images\".format(par))\n",
    "    ax.set_xlabel(\"Prob. Threshold\",fontweight='bold')\n",
    "    ax.set_ylabel(\"N Images Remaining\",fontweight='bold')\n",
    "    plt.show()"
   ]
  },
  {
   "cell_type": "code",
   "execution_count": null,
   "metadata": {
    "collapsed": true
   },
   "outputs": [],
   "source": []
  }
 ],
 "metadata": {
  "kernelspec": {
   "display_name": "Python 2",
   "language": "python",
   "name": "python2"
  },
  "language_info": {
   "codemirror_mode": {
    "name": "ipython",
    "version": 2
   },
   "file_extension": ".py",
   "mimetype": "text/x-python",
   "name": "python",
   "nbconvert_exporter": "python",
   "pygments_lexer": "ipython2",
   "version": "2.7.10"
  }
 },
 "nbformat": 4,
 "nbformat_minor": 0
}
