{
 "cells": [
  {
   "cell_type": "code",
   "execution_count": null,
   "metadata": {
    "collapsed": false
   },
   "outputs": [],
   "source": []
  },
  {
   "cell_type": "code",
   "execution_count": null,
   "metadata": {
    "collapsed": false
   },
   "outputs": [],
   "source": [
    "%matplotlib inline\n",
    "import matplotlib\n",
    "import matplotlib.pyplot as plt\n",
    "import numpy as np\n",
    "import pandas as pd\n",
    "import re\n",
    "\n",
    "!rsync -r vgenty@wu.nevis.columbia.edu:/home/vgenty/py-faster-rcnn/experiments/logs .\n",
    "FILE = \"/Users/vgenty/Desktop/rcnn/logs/frcnn_alt_opt_ub_trimese_.txt.2016-04-19_00-14-55\"\n",
    "\n",
    "with open(FILE) as f:\n",
    "    read = f.read()\n",
    "    \n",
    "iterations = read.split(\"229] Iteration\")[1:]\n",
    "\n",
    "rr = {\n",
    "     \"rpn_cls_loss\"  : re.compile(\"rpn_cls_loss\\s\\=\\s(\\d+\\.\\d+)\\s\"),\n",
    "     \"rpn_loss_bbox\" : re.compile(\"rpn_loss_bbox\\s\\=\\s(\\d+\\.\\d+(e\\-\\d+)?)\\s\")\n",
    "}\n",
    "\n",
    "di = {\"Iteration\" : [],\n",
    "      \"loss\" : [],\n",
    "      \"rpn_cls_loss\" : [],\n",
    "      \"rpn_loss_bbox\" : [] }\n",
    "\n",
    "for i in iterations:\n",
    "    a = re.search(\"\\s(\\d+)\\,\\sloss\\s\\=\\s(\\d+\\.\\d+)\",i)\n",
    "    if a is None:\n",
    "        print \"continue\"\n",
    "        continue\n",
    "\n",
    "    di['Iteration'].append(int(a.group(1)))\n",
    "    di['loss'].append(float(a.group(2)))\n",
    "    #print int(a.group(1))\n",
    "    #print i\n",
    "    for r in rr:\n",
    "        di[r].append(float(rr[r].search(i).group(1)))\n",
    "\n",
    "df = pd.DataFrame(di)   \n",
    "#############################\n",
    "\n",
    "matplotlib.rcParams['font.size'] = 16\n",
    "fig,ax = plt.subplots(figsize=(12,7))\n",
    "\n",
    "ax.plot(df.Iteration.values,\n",
    "         df.loss.rolling(window=1).mean(),'-',label='Loss',color='blue',lw=2)\n",
    "\n",
    "\n",
    "ax.plot(df.Iteration.values,\n",
    "         df.loss.rolling(window=10).mean(),'-o',label='Mean',color='red',lw=2)\n",
    "\n",
    "#for r in rr:\n",
    "#    ax.plot(df.Iteration.values,\n",
    "#            df[r].values,'-',label=\"{}\".format(r),alpha=0.5)\n",
    "\n",
    "ax.legend(loc='best')\n",
    "ax.set_xlabel(\"Iteration\",fontweight='bold')\n",
    "#ax.set_yscale('log')\n",
    "ax.grid()\n",
    "plt.savefig('RPN.pdf', format='pdf', dpi=1000)\n",
    "plt.show()"
   ]
  },
  {
   "cell_type": "code",
   "execution_count": null,
   "metadata": {
    "collapsed": true
   },
   "outputs": [],
   "source": []
  }
 ],
 "metadata": {
  "kernelspec": {
   "display_name": "Python 2",
   "language": "python",
   "name": "python2"
  },
  "language_info": {
   "codemirror_mode": {
    "name": "ipython",
    "version": 2
   },
   "file_extension": ".py",
   "mimetype": "text/x-python",
   "name": "python",
   "nbconvert_exporter": "python",
   "pygments_lexer": "ipython2",
   "version": "2.7.10"
  }
 },
 "nbformat": 4,
 "nbformat_minor": 0
}
