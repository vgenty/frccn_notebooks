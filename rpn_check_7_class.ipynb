{
 "cells": [
  {
   "cell_type": "code",
   "execution_count": null,
   "metadata": {
    "collapsed": false
   },
   "outputs": [],
   "source": [
    "%matplotlib inline\n",
    "import matplotlib \n",
    "import numpy as np\n",
    "import matplotlib.pyplot as plt\n",
    "\n",
    "import pandas as pd\n",
    "\n",
    "import os\n",
    "\n",
    "import cv2\n",
    "\n",
    "DETECTIONS = \"/Users/vgenty/Desktop/rcnn/detections_7/\"\n",
    "VALID = \"/Users/vgenty/Desktop/rcnn/valid/\"\n",
    "dets = os.listdir(DETECTIONS)"
   ]
  },
  {
   "cell_type": "code",
   "execution_count": null,
   "metadata": {
    "collapsed": true
   },
   "outputs": [],
   "source": [
    "idx_to_class = {1 : 'eminus',\n",
    "                2 : 'proton',\n",
    "                3 : 'pizero',\n",
    "                4 : 'muminus',\n",
    "                5 : 'gamma',\n",
    "                6 : 'piminus',\n",
    "                7 : 'kminus'}"
   ]
  },
  {
   "cell_type": "code",
   "execution_count": null,
   "metadata": {
    "collapsed": false
   },
   "outputs": [],
   "source": [
    "results = {'eminus' : [], 'proton' : [], 'pizero' : [], 'muminus' : [], 'gamma' : [],'piminus' : [],'kminus' : []}\n",
    "\n",
    "for ix, det in enumerate(dets):\n",
    "    d_truth  = det.split(\"_\")[-1][:-4]\n",
    "    dets_df  = pd.read_csv(DETECTIONS+det,names=['prob','xmin','ymin','xmax','ymax'])\n",
    "    top      = dets_df.sort(columns='prob',ascending=False).iloc[0]\n",
    "    results[d_truth].append({'name':top.name,'prob':top.prob})"
   ]
  },
  {
   "cell_type": "code",
   "execution_count": null,
   "metadata": {
    "collapsed": false,
    "scrolled": true
   },
   "outputs": [],
   "source": [
    "classifieds = { 'eminus' : {},\n",
    "                'proton' : {},\n",
    "                'pizero' : {},\n",
    "                'muminus': {},\n",
    "                'gamma' : {},\n",
    "                'piminus' : {},\n",
    "                'kminus' : {}}\n",
    "\n",
    "for thresh in np.arange(0,1.01,0.01):\n",
    "    for particle in classifieds :\n",
    "        par = results[particle]\n",
    "        for res in par:\n",
    "            \n",
    "            if float(res['prob'] < thresh):\n",
    "                continue\n",
    "                \n",
    "            if thresh not in classifieds[particle]:\n",
    "                classifieds[particle][thresh] = [0 for _ in xrange(7)]\n",
    "                \n",
    "            classifieds[particle][thresh][res['name'] - 1] += 1\n",
    "\n",
    "\n",
    "p_df = pd.DataFrame(classifieds)"
   ]
  },
  {
   "cell_type": "code",
   "execution_count": null,
   "metadata": {
    "collapsed": false,
    "scrolled": false
   },
   "outputs": [],
   "source": [
    "matplotlib.rcParams['font.size'] = 16\n",
    "\n",
    "for par in results:\n",
    "\n",
    "    thresh_0_sum =  float(np.array(p_df[par].ix[0.0]).sum())\n",
    "\n",
    "    fig,ax = plt.subplots(figsize=(10,6))\n",
    "    for i in xrange(7):\n",
    "        ax.plot(p_df.index.values,\n",
    "                (p_df[par].iloc[:].str[i].values / thresh_0_sum) * 100.0,\n",
    "                '-o',\n",
    "                label=idx_to_class[i+1])\n",
    "\n",
    "    ax.set_ylabel('Classified % by RCNN'.format(par),fontweight='bold')\n",
    "    ax.set_xlabel('Detection prob',fontweight='bold')\n",
    "    ax.set_title(\"Truth: {}\\nSample Size: {}\".format(par,thresh_0_sum))\n",
    "    ax.set_ylim(0,100.0)\n",
    "    ax.legend(loc='best',fontsize=12)\n",
    "    plt.savefig('eff_7_class_{}.pdf'.format(par), format='pdf', dpi=1000)\n",
    "    plt.show()"
   ]
  },
  {
   "cell_type": "code",
   "execution_count": null,
   "metadata": {
    "collapsed": false,
    "scrolled": false
   },
   "outputs": [],
   "source": [
    "import matplotlib.gridspec as gridspec\n",
    "\n",
    "matplotlib.rcParams['font.size'] = 16\n",
    "matplotlib.rcParams['font.family'] = 'serif'\n",
    "for par in results:\n",
    "    \n",
    "    sums = np.array([float(np.sum(j)) for j in p_df[par].values])\n",
    "    fig,_ = plt.subplots(figsize=(16,8))\n",
    "    \n",
    "    gs = gridspec.GridSpec(2, 1,\n",
    "                           width_ratios=[1,1],\n",
    "                           height_ratios=[1,2])\n",
    "    \n",
    "    ax = plt.subplot(gs[0])\n",
    "    ax.plot(p_df.index.values,sums,'-',color='black',lw=2)\n",
    "    ax.set_ylabel('N Images'.format(par),fontweight='bold')\n",
    "    ax.set_title(\"Purity of truth: {}\\n\".format(par))\n",
    "    ax.set_xticklabels([])\n",
    "    ax = plt.subplot(gs[1])\n",
    "    for i in xrange(7):\n",
    "        ax.plot(p_df.index.values,\n",
    "                (p_df[par].iloc[:].str[i].values / sums)*100.0,\n",
    "                '-o',\n",
    "                label=idx_to_class[i+1])\n",
    "    \n",
    "    ax.set_ylabel('Classified % by RCNN'.format(par),fontweight='bold')\n",
    "    ax.set_xlabel('Detection prob treshold',fontweight='bold')\n",
    "   \n",
    "    ax.legend(loc='best',fontsize=12)\n",
    "    plt.savefig('purity_7_class_{}.pdf'.format(par), format='pdf', dpi=1000)\n",
    "    ax.set_ylim(0,100)\n",
    "    plt.tight_layout()\n",
    "    plt.show()"
   ]
  },
  {
   "cell_type": "code",
   "execution_count": null,
   "metadata": {
    "collapsed": true
   },
   "outputs": [],
   "source": []
  }
 ],
 "metadata": {
  "kernelspec": {
   "display_name": "Python 2",
   "language": "python",
   "name": "python2"
  },
  "language_info": {
   "codemirror_mode": {
    "name": "ipython",
    "version": 2
   },
   "file_extension": ".py",
   "mimetype": "text/x-python",
   "name": "python",
   "nbconvert_exporter": "python",
   "pygments_lexer": "ipython2",
   "version": "2.7.10"
  }
 },
 "nbformat": 4,
 "nbformat_minor": 0
}
