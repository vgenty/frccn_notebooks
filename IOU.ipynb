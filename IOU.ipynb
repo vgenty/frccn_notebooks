{
 "cells": [
  {
   "cell_type": "code",
   "execution_count": null,
   "metadata": {
    "collapsed": true
   },
   "outputs": [],
   "source": [
    "%matplotlib inline\n",
    "\n",
    "import matplotlib\n",
    "import matplotlib.pyplot as plt\n",
    "\n",
    "import numpy  as np\n",
    "import pandas as pd\n",
    "\n",
    "import os\n",
    "\n",
    "DETDIR='results/Main'\n",
    "ANNDIR='Annotations'\n",
    "TRIDIR='ImageSets/Main/'"
   ]
  },
  {
   "cell_type": "code",
   "execution_count": null,
   "metadata": {
    "collapsed": false
   },
   "outputs": [],
   "source": [
    "detections = os.listdir(DETDIR)\n",
    "print detections"
   ]
  },
  {
   "cell_type": "code",
   "execution_count": null,
   "metadata": {
    "collapsed": false
   },
   "outputs": [],
   "source": [
    "tests = None\n",
    "with open(os.path.join(TRIDIR,'test_4.txt')) as f:\n",
    "    tests = f.read()\n",
    "tests = tests.split(\"\\n\")"
   ]
  },
  {
   "cell_type": "code",
   "execution_count": null,
   "metadata": {
    "collapsed": false
   },
   "outputs": [],
   "source": [
    "frames = []\n",
    "for det in detections:\n",
    "    frames.append(pd.read_csv(os.path.join(DETDIR,det),\n",
    "                    delimiter=' ',names=['file','prob','xmin','ymin','xmax','ymax','pred_class']) )"
   ]
  },
  {
   "cell_type": "code",
   "execution_count": null,
   "metadata": {
    "collapsed": false
   },
   "outputs": [],
   "source": [
    "pred_df = pd.concat(frames,ignore_index=True)"
   ]
  },
  {
   "cell_type": "code",
   "execution_count": null,
   "metadata": {
    "collapsed": false
   },
   "outputs": [],
   "source": [
    "#Check a single result\n",
    "pred_df[pred_df.file == 'muminus008457'].sort('prob',ascending=False)"
   ]
  },
  {
   "cell_type": "code",
   "execution_count": null,
   "metadata": {
    "collapsed": false
   },
   "outputs": [],
   "source": [
    "g = {}\n",
    "for ix,image in enumerate(tests):\n",
    "    data = None\n",
    "    with open(os.path.join(ANNDIR,image+\".txt\")) as f:\n",
    "        data = f.read()\n",
    "    data = data.split(\" \")[2:]\n",
    "    data = np.array(data,dtype=np.float64)\n",
    "    g[image] = data"
   ]
  },
  {
   "cell_type": "code",
   "execution_count": null,
   "metadata": {
    "collapsed": false
   },
   "outputs": [],
   "source": [
    "def iou(bbox1,bbox2):\n",
    "    ixmin = np.maximum(bbox1[0], bbox2[0])\n",
    "    iymin = np.maximum(bbox1[1], bbox2[1])\n",
    "    ixmax = np.minimum(bbox1[2], bbox2[2])\n",
    "    iymax = np.minimum(bbox1[3], bbox2[3])\n",
    "\n",
    "    iw = np.maximum(ixmax - ixmin, 0.)\n",
    "    ih = np.maximum(iymax - iymin, 0.)\n",
    "\n",
    "    inters = iw*ih\n",
    "             # union                                                                                                        \n",
    "    uni = ((bbox1[2] - bbox1[0]) * (bbox1[3] - bbox1[1]) +\n",
    "           (bbox2[2] - bbox2[0]) *\n",
    "           (bbox2[3] - bbox2[1]) - inters)\n",
    "             # IoU                                                                                                          \n",
    "    iou = inters / uni\n",
    "    return iou"
   ]
  },
  {
   "cell_type": "code",
   "execution_count": null,
   "metadata": {
    "collapsed": true
   },
   "outputs": [],
   "source": [
    "def iou_row(row):\n",
    "    pred_bbox = np.array(row[['xmin','ymin','xmax','ymax']])\n",
    "    return iou(pred_bbox,g[row.file])"
   ]
  },
  {
   "cell_type": "code",
   "execution_count": null,
   "metadata": {
    "collapsed": false
   },
   "outputs": [],
   "source": [
    "# Go row by row and calculate iou, very slowly\n",
    "pred_df['iou'] = pred_df.apply(iou_row,axis=1)"
   ]
  },
  {
   "cell_type": "code",
   "execution_count": null,
   "metadata": {
    "collapsed": true
   },
   "outputs": [],
   "source": [
    "import re\n",
    "truth = re.compile(\"^([a-z]+)[0-9]+\")\n",
    "pars = ['','eminus','proton','pizero','muminus']\n",
    "\n",
    "def get_gt(row): \n",
    "    return pars.index(truth.search(row.file).group(1))\n",
    "    "
   ]
  },
  {
   "cell_type": "code",
   "execution_count": null,
   "metadata": {
    "collapsed": true
   },
   "outputs": [],
   "source": [
    "# Go row by row and mark the groundtruth\n",
    "pred_df['gt'] = pred_df.apply(get_gt,axis=1)"
   ]
  },
  {
   "cell_type": "code",
   "execution_count": null,
   "metadata": {
    "collapsed": false
   },
   "outputs": [],
   "source": [
    "#Check a single result again\n",
    "pred_df[pred_df.file == 'eminus019622'].sort('prob',ascending=False)"
   ]
  },
  {
   "cell_type": "code",
   "execution_count": null,
   "metadata": {
    "collapsed": false
   },
   "outputs": [],
   "source": [
    "ious = []\n",
    "probs = []\n",
    "nimages = 0\n",
    "im = {}\n",
    "for image in g:\n",
    "    df = pred_df[pred_df.file == image].sort('prob',ascending=False)\n",
    "    top = df.iloc[0] # take only the top prediction\n",
    "    \n",
    "    im[image] = {'gt':top['gt'],'top_pred_class':top['pred_class'],'top_iou':top['iou'],'top_prob':top['prob']}\n"
   ]
  },
  {
   "cell_type": "code",
   "execution_count": null,
   "metadata": {
    "collapsed": false
   },
   "outputs": [],
   "source": [
    "im_df = pd.DataFrame(im).T"
   ]
  },
  {
   "cell_type": "code",
   "execution_count": null,
   "metadata": {
    "collapsed": false
   },
   "outputs": [],
   "source": [
    "true_particle = [im_df[im_df['gt']==i] for i in xrange(len(pars)) if i != 0]"
   ]
  },
  {
   "cell_type": "code",
   "execution_count": null,
   "metadata": {
    "collapsed": false
   },
   "outputs": [],
   "source": [
    "len(true_particle)"
   ]
  },
  {
   "cell_type": "code",
   "execution_count": null,
   "metadata": {
    "collapsed": false
   },
   "outputs": [],
   "source": [
    "matplotlib.rcParams['font.size'] = 16\n",
    "\n",
    "pthresh = 0.5\n",
    "for ix, tpar in enumerate(true_particle):\n",
    "    ii  = ix\n",
    "    ii += 1\n",
    "    \n",
    "    fig, ax = plt.subplots(figsize=(10,6))\n",
    "    divs = 0.01\n",
    "    ntot = float(tpar.index.values.size)\n",
    "    for i in xrange(4):\n",
    "        i+=1\n",
    "        s = tpar[ tpar['top_pred_class'] == i ][ tpar['top_prob'] >= pthresh]\n",
    "        nn = s.top_iou.values.size\n",
    "        ax.hist(s.top_iou.values,\n",
    "                bins=np.arange(0,1.0+divs,divs),\n",
    "                label='Detected: {}\\nFrac: {:.2f}'.format(pars[i],\n",
    "                                                          nn/ntot),\n",
    "                alpha=0.5)\n",
    "        \n",
    "    ax.set_title(\"Truth: {}\".format(pars[ii]),fontweight='bold')\n",
    "    ax.set_xlabel(\"IoU @ Prob Thresh: {}\".format(pthresh),fontweight='bold')\n",
    "    plt.legend(loc='best',fontsize=14)\n",
    "    plt.tight_layout()\n",
    "    plt.savefig('iou_true_{}.pdf'.format(pars[ii]), format='pdf', dpi=1000)\n",
    "    plt.show()"
   ]
  },
  {
   "cell_type": "code",
   "execution_count": null,
   "metadata": {
    "collapsed": false,
    "scrolled": true
   },
   "outputs": [],
   "source": [
    "matplotlib.rcParams['font.size'] = 16\n",
    "fig, _ = plt.subplots(figsize=(10,3*6))\n",
    "ax = plt.subplot(3,1,1)\n",
    "ax.hist(ious,bins=np.arange(0,1.0+divs,divs))\n",
    "ax.set_title(\"Truth: proton\\nDetect: muminus\")\n",
    "ax.set_xlabel('IoU')\n",
    "ax = plt.subplot(3,1,2)\n",
    "ax.hist(probs,bins=np.arange(0,1.0+divs,divs))\n",
    "ax.set_title(\"Truth: proton\\nDetect: muminus\")\n",
    "ax.set_xlabel('Detection Probability')\n",
    "ax = plt.subplot(3,1,3)\n",
    "divs = 0.01\n",
    "ax.hist2d(ious,probs,bins=(np.arange(0,1.0+divs,divs),\n",
    "                           np.arange(0,1.0+divs,divs)))\n",
    "plt.tight_layout()\n",
    "plt.show()"
   ]
  }
 ],
 "metadata": {
  "kernelspec": {
   "display_name": "Python 2",
   "language": "python",
   "name": "python2"
  },
  "language_info": {
   "codemirror_mode": {
    "name": "ipython",
    "version": 2
   },
   "file_extension": ".py",
   "mimetype": "text/x-python",
   "name": "python",
   "nbconvert_exporter": "python",
   "pygments_lexer": "ipython2",
   "version": "2.7.10"
  }
 },
 "nbformat": 4,
 "nbformat_minor": 0
}
