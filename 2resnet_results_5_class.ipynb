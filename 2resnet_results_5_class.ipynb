{
 "cells": [
  {
   "cell_type": "code",
   "execution_count": null,
   "metadata": {
    "collapsed": true
   },
   "outputs": [],
   "source": [
    "%matplotlib inline\n",
    "import matplotlib\n",
    "import matplotlib.pyplot as plt\n",
    "\n",
    "import numpy as np\n",
    "import pandas as pd"
   ]
  },
  {
   "cell_type": "code",
   "execution_count": null,
   "metadata": {
    "collapsed": false
   },
   "outputs": [],
   "source": [
    "df_res1 = pd.read_csv(\"renset18_5_class_results.txt\")\n",
    "df_res2 = pd.read_csv(\"renset18_5_class_results2.txt\")\n",
    "df_res3 = pd.read_csv(\"renset18_5_class_results3.txt\")\n",
    "df_res4 = pd.read_csv(\"renset18_5_class_results4.txt\")\n",
    "df_res5 = pd.read_csv(\"renset18_5_class_results5.txt\")\n",
    "df_res6 = pd.read_csv(\"renset18_5_class_results6.txt\")\n",
    "df_res7 = pd.read_csv(\"renset18_5_class_results7.txt\")"
   ]
  },
  {
   "cell_type": "code",
   "execution_count": null,
   "metadata": {
    "collapsed": true
   },
   "outputs": [],
   "source": [
    "particles = ['eminus','proton','pizero','muminus','gamma']\n",
    "particles_df_res1 = {}\n",
    "particles_df_res2 = {}\n",
    "particles_df_res3 = {}\n",
    "particles_df_res4 = {}\n",
    "particles_df_res5 = {}\n",
    "particles_df_res6 = {}\n",
    "particles_df_res7 = {}"
   ]
  },
  {
   "cell_type": "code",
   "execution_count": null,
   "metadata": {
    "collapsed": false
   },
   "outputs": [],
   "source": [
    "for ix,p in enumerate(particles):\n",
    "    particles_df_res1[p] = df_res1.query('label == %d' % ix)\n",
    "    particles_df_res2[p] = df_res2.query('label == %d' % ix)\n",
    "    particles_df_res3[p] = df_res3.query('label == %d' % ix)\n",
    "    particles_df_res4[p] = df_res4.query('label == %d' % ix)\n",
    "    particles_df_res5[p] = df_res5.query('label == %d' % ix)\n",
    "    particles_df_res6[p] = df_res6.query('label == %d' % ix)\n",
    "    particles_df_res7[p] = df_res7.query('label == %d' % ix)\n",
    "\n",
    "options = {'Res1' : particles_df_res1,\n",
    "           'Res2' : particles_df_res2,\n",
    "           'Res3'  : particles_df_res3,\n",
    "            'Res4' : particles_df_res4,\n",
    "            'Res5': particles_df_res5,\n",
    "          'Res6' : particles_df_res6,\n",
    "          'Res7' : particles_df_res7}\n",
    "colors = {'Res1' : 'purple',\n",
    "          'Res2' : 'green' ,\n",
    "           'Res3' : 'orange',\n",
    "            'Res4' : 'red',\n",
    "            'Res5' : 'blue',\n",
    "            'Res6' : \"cyan\",\n",
    "         'Res7' : \"black\"}"
   ]
  },
  {
   "cell_type": "code",
   "execution_count": null,
   "metadata": {
    "collapsed": false,
    "scrolled": false
   },
   "outputs": [],
   "source": [
    "matplotlib.rcParams['font.size'] = 16\n",
    "freqs = []\n",
    "for par in particles:\n",
    "    fig, ax = plt.subplots(figsize=(10,8))\n",
    "    for option in options:\n",
    "        particles_df = options[option]\n",
    "        dec = []\n",
    "        n = float(particles_df[par].index.size)\n",
    "        for ix,p in enumerate(particles):\n",
    "            dec.append(particles_df[par].query('decision == %d' % ix).index.size / n)\n",
    "\n",
    "        freqs.append(dec)\n",
    "\n",
    "        ax.hist(np.arange(0,len(particles),1.0),\n",
    "                bins=np.arange(0,len(particles)+1,1.0),\n",
    "                weights=np.array(dec)*100.0,\n",
    "                label='{} True {}\\nN={}'.format(option,par,int(n)),alpha=1.0,color=colors[option],\n",
    "                histtype='step',\n",
    "                lw=2)\n",
    "\n",
    "    ax.set_ylim(0,100)\n",
    "    ax.yaxis.grid()\n",
    "    ax.set_ylabel(\"Classified %\",fontweight='bold')\n",
    "\n",
    "    ax.set_xticks(np.arange(0.5,float(len(particles))+0.5,1.0))\n",
    "    ax.set_xticklabels(particles)\n",
    "\n",
    "    ax.legend(loc='upper left',fontsize=12)\n",
    "    if par == 'eminus':\n",
    "        ax.legend(loc='upper right',fontsize=12)\n",
    "    plt.savefig('many_%d_resszy_%s.pdf' %(len(particles),par), format='pdf', dpi=1000)\n",
    "    plt.show()"
   ]
  },
  {
   "cell_type": "code",
   "execution_count": null,
   "metadata": {
    "collapsed": true
   },
   "outputs": [],
   "source": []
  }
 ],
 "metadata": {
  "kernelspec": {
   "display_name": "Python 2",
   "language": "python",
   "name": "python2"
  },
  "language_info": {
   "codemirror_mode": {
    "name": "ipython",
    "version": 2
   },
   "file_extension": ".py",
   "mimetype": "text/x-python",
   "name": "python",
   "nbconvert_exporter": "python",
   "pygments_lexer": "ipython2",
   "version": "2.7.10"
  }
 },
 "nbformat": 4,
 "nbformat_minor": 0
}
