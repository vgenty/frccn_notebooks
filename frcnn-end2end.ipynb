{
 "cells": [
  {
   "cell_type": "code",
   "execution_count": null,
   "metadata": {
    "collapsed": false,
    "scrolled": false
   },
   "outputs": [],
   "source": [
    "%matplotlib inline\n",
    "import matplotlib\n",
    "import matplotlib.pyplot as plt\n",
    "import numpy as np\n",
    "import pandas as pd\n",
    "import re\n",
    "\n",
    "!rsync -r vgenty@wu.nevis.columbia.edu:/home/vgenty/py-faster-rcnn/experiments/logs .\n",
    "FILE = \"/Users/vgenty/Desktop/rcnn/logs/faster_rcnn_end2end_google_50_.txt.2016-03-28_12-43-28\"\n",
    "\n",
    "with open(FILE) as f:\n",
    "    read = f.read()\n",
    "\n",
    "iterations = read.split(\"229] Iteration\")[1:]\n",
    "\n",
    "rr = {\"loss_bbox\"    : re.compile(\"loss_bbox\\s\\=\\s(\\d+\\.\\d+(e\\-\\d+)?)\\s\"),\n",
    "      \"loss_cls\"      : re.compile(\"loss_cls\\s\\=\\s(\\d+\\.\\d+(e\\-\\d+)?)\\s\"),\n",
    "      \"rpn_cls_loss\"  : re.compile(\"rpn_cls_loss\\s\\=\\s(\\d+\\.\\d+(e\\-\\d+)?)\\s\"),\n",
    "      \"rpn_loss_bbox\" : re.compile(\"rpn_loss_bbox\\s\\=\\s(\\d+\\.\\d+(e\\-\\d+)?)\\s\")}\n",
    "\n",
    "#di = {\"Iteration\" : [],\n",
    "#      \"loss\" : [],\n",
    "#      \"loss_bbox\" : [],\n",
    "#      \"loss_cls\" : [],\n",
    "#      \"rpn_cls_loss\" : [],\n",
    "#      \"rpn_loss_bbox\" : [] }\n",
    "\n",
    "di = {\"Iteration\" : [],\n",
    "      \"loss\" : [] }\n",
    "\n",
    "for i in iterations:\n",
    "    a = re.search(\"\\s(\\d+)\\,\\sloss\\s\\=\\s(\\d+\\.\\d+)\",i)\n",
    "\n",
    "    if a is None:\n",
    "        print \"continue\"\n",
    "        continue\n",
    "\n",
    "    di['Iteration'].append(int(a.group(1)))\n",
    "    di['loss'].append(float(a.group(2)))\n",
    "\n",
    "    #for r in rr:\n",
    "    #    di[r].append(float(rr[r].search(i).group(1)))\n",
    "\n",
    "df = pd.DataFrame(di)   \n",
    "#############################\n",
    "\n",
    "matplotlib.rcParams['font.size'] = 16\n",
    "fig,ax = plt.subplots(figsize=(12,7))\n",
    "\n",
    "\n",
    "ax.plot(df.Iteration.values,\n",
    "        df.loss,'-',label='loss')\n",
    "\n",
    "#for r in rr:\n",
    "#    ax.plot(df.Iteration.values,\n",
    "#            df[r].values,'-',label=\"{}\".format(r),alpha=0.5)\n",
    "\n",
    "ax.legend(loc='best')\n",
    "ax.set_xlabel(\"Iteration\")\n",
    "#ax.set_yscale('log')\n",
    "#ax.set_xlim(0,12000)\n",
    "#plt.savefig('rcnn_bad_end2end.pdf', format='pdf', dpi=1000)\n",
    "plt.show()"
   ]
  },
  {
   "cell_type": "code",
   "execution_count": null,
   "metadata": {
    "collapsed": true
   },
   "outputs": [],
   "source": []
  }
 ],
 "metadata": {
  "kernelspec": {
   "display_name": "Python 2",
   "language": "python",
   "name": "python2"
  },
  "language_info": {
   "codemirror_mode": {
    "name": "ipython",
    "version": 2
   },
   "file_extension": ".py",
   "mimetype": "text/x-python",
   "name": "python",
   "nbconvert_exporter": "python",
   "pygments_lexer": "ipython2",
   "version": "2.7.10"
  }
 },
 "nbformat": 4,
 "nbformat_minor": 0
}
