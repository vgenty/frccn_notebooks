{
 "cells": [
  {
   "cell_type": "code",
   "execution_count": null,
   "metadata": {
    "collapsed": true
   },
   "outputs": [],
   "source": [
    "%matplotlib inline\n",
    "import matplotlib\n",
    "import matplotlib.pyplot as plt\n",
    "\n",
    "import numpy as np\n",
    "import pandas as pd"
   ]
  },
  {
   "cell_type": "code",
   "execution_count": null,
   "metadata": {
    "collapsed": false
   },
   "outputs": [],
   "source": [
    "df = pd.read_csv(\"/Users/vgenty/Desktop/rcnn/google_6_class_results.txt\")\n",
    "\n",
    "particles = ['eminus','proton','pizero','muminus','gamma','piminus']\n",
    "particles_df = {}"
   ]
  },
  {
   "cell_type": "code",
   "execution_count": null,
   "metadata": {
    "collapsed": false
   },
   "outputs": [],
   "source": [
    "for ix,p in enumerate(particles):\n",
    "    particles_df[p] = df.query('label == %d' % ix)"
   ]
  },
  {
   "cell_type": "code",
   "execution_count": null,
   "metadata": {
    "collapsed": false,
    "scrolled": false
   },
   "outputs": [],
   "source": [
    "matplotlib.rcParams['font.size'] = 16\n",
    "freqs = []\n",
    "for par in particles:\n",
    "    fig, ax = plt.subplots(figsize=(10,6))\n",
    "    dec = []\n",
    "    n = float(particles_df[par].index.size)\n",
    "    for ix,p in enumerate(particles):\n",
    "        dec.append(particles_df[par].query('decision == %d' % ix).index.size / n)\n",
    "\n",
    "    ax.hist(np.arange(0,len(particles),1.0),\n",
    "            bins=np.arange(0,len(particles)+1,1.0),\n",
    "            weights=np.array(dec)*100.0,\n",
    "            label='True {}\\nN={}'.format(par,int(n)))\n",
    "    freqs.append(dec)\n",
    "    ax.set_ylim(0,100)\n",
    "    ax.yaxis.grid()\n",
    "    ax.set_ylabel(\"Classified %\",fontweight='bold')\n",
    "\n",
    "    ax.set_xticks(np.arange(0.5,float(len(particles))+0.5,1.0))\n",
    "    ax.set_xticklabels(particles)\n",
    "   \n",
    "    ax.legend(loc='best')\n",
    "    plt.savefig('%d_class_google_%s.pdf' %(len(particles),par), format='pdf', dpi=1000)\n",
    "    plt.show()"
   ]
  },
  {
   "cell_type": "code",
   "execution_count": null,
   "metadata": {
    "collapsed": false
   },
   "outputs": [],
   "source": [
    "a = np.array(freqs)\n",
    "\n",
    "fig,ax = plt.subplots(figsize=(12,8))\n",
    "im = ax.matshow(np.array(a),origin='bottom')\n",
    "ax.xaxis.set_ticks_position('bottom')\n",
    "ax.set_xticklabels([''] + particles,rotation=45,fontweight='bold')\n",
    "ax.set_yticklabels([''] + particles,fontweight='bold')\n",
    "ax.set_title(\"Confusion Matrix\",fontweight='bold')\n",
    "plt.colorbar(im)\n",
    "plt.tight_layout()\n",
    "ax.text(7.5,3.5,\"Percent Fraction\",rotation=270,fontweight='bold')\n",
    "plt.savefig('google_6_class_confusion_matrix.pdf', format='pdf', dpi=1000)\n",
    "plt.show()"
   ]
  },
  {
   "cell_type": "code",
   "execution_count": null,
   "metadata": {
    "collapsed": true
   },
   "outputs": [],
   "source": []
  }
 ],
 "metadata": {
  "kernelspec": {
   "display_name": "Python 2",
   "language": "python",
   "name": "python2"
  },
  "language_info": {
   "codemirror_mode": {
    "name": "ipython",
    "version": 2
   },
   "file_extension": ".py",
   "mimetype": "text/x-python",
   "name": "python",
   "nbconvert_exporter": "python",
   "pygments_lexer": "ipython2",
   "version": "2.7.10"
  }
 },
 "nbformat": 4,
 "nbformat_minor": 0
}
