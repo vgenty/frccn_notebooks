{
 "cells": [
  {
   "cell_type": "code",
   "execution_count": null,
   "metadata": {
    "collapsed": true
   },
   "outputs": [],
   "source": [
    "%matplotlib inline\n",
    "import matplotlib\n",
    "import matplotlib.pyplot as plt\n",
    "\n",
    "import numpy as np\n",
    "import pandas as pd"
   ]
  },
  {
   "cell_type": "code",
   "execution_count": null,
   "metadata": {
    "collapsed": false
   },
   "outputs": [],
   "source": [
    "df_google = pd.read_csv(\"/Users/vgenty/Desktop/rcnn/google_7_class_results.txt\")\n",
    "df_alex   = pd.read_csv(\"/Users/vgenty/Desktop/rcnn/7_class_results.txt\")"
   ]
  },
  {
   "cell_type": "code",
   "execution_count": null,
   "metadata": {
    "collapsed": true
   },
   "outputs": [],
   "source": [
    "particles = ['eminus','proton','pizero','muminus','gamma','piminus','kminus']\n",
    "particles_df_google = {}\n",
    "particles_df_alex = {}"
   ]
  },
  {
   "cell_type": "code",
   "execution_count": null,
   "metadata": {
    "collapsed": false
   },
   "outputs": [],
   "source": [
    "for ix,p in enumerate(particles):\n",
    "    particles_df_google[p] = df_google.query('label == %d' % ix)\n",
    "    particles_df_alex[p] = df_alex.query('label == %d' % ix)\n",
    "options = {'Alex' : particles_df_alex,\n",
    "           'Google' : particles_df_google}\n",
    "colors = {'Alex' : 'blue',\n",
    "           'Google' : 'red'}"
   ]
  },
  {
   "cell_type": "code",
   "execution_count": null,
   "metadata": {
    "collapsed": false,
    "scrolled": false
   },
   "outputs": [],
   "source": [
    "matplotlib.rcParams['font.size'] = 16\n",
    "freqs = []\n",
    "for par in particles:\n",
    "    fig, ax = plt.subplots(figsize=(10,6))\n",
    "    for option in options:\n",
    "        particles_df = options[option]\n",
    "        dec = []\n",
    "        n = float(particles_df[par].index.size)\n",
    "        for ix,p in enumerate(particles):\n",
    "            dec.append(particles_df[par].query('decision == %d' % ix).index.size / n)\n",
    "\n",
    "        freqs.append(dec)\n",
    "\n",
    "        ax.hist(np.arange(0,len(particles),1.0),\n",
    "                bins=np.arange(0,len(particles)+1,1.0),\n",
    "                weights=np.array(dec)*100.0,\n",
    "                label='{} True {}\\nN={}'.format(option,par,int(n)),alpha=0.5,color=colors[option])\n",
    "\n",
    "    ax.set_ylim(0,100)\n",
    "    ax.yaxis.grid()\n",
    "    ax.set_ylabel(\"Classified %\",fontweight='bold')\n",
    "\n",
    "    ax.set_xticks(np.arange(0.5,float(len(particles))+0.5,1.0))\n",
    "    ax.set_xticklabels(particles)\n",
    "\n",
    "    ax.legend(loc='best')\n",
    "    plt.savefig('both_%d_class_%s.pdf' %(len(particles),par), format='pdf', dpi=1000)\n",
    "    plt.show()"
   ]
  },
  {
   "cell_type": "code",
   "execution_count": null,
   "metadata": {
    "collapsed": true
   },
   "outputs": [],
   "source": []
  }
 ],
 "metadata": {
  "kernelspec": {
   "display_name": "Python 2",
   "language": "python",
   "name": "python2"
  },
  "language_info": {
   "codemirror_mode": {
    "name": "ipython",
    "version": 2
   },
   "file_extension": ".py",
   "mimetype": "text/x-python",
   "name": "python",
   "nbconvert_exporter": "python",
   "pygments_lexer": "ipython2",
   "version": "2.7.10"
  }
 },
 "nbformat": 4,
 "nbformat_minor": 0
}
