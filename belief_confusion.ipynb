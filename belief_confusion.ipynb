{
 "cells": [
  {
   "cell_type": "code",
   "execution_count": null,
   "metadata": {
    "collapsed": true
   },
   "outputs": [],
   "source": [
    "%matplotlib inline\n",
    "\n",
    "import matplotlib\n",
    "import matplotlib.pyplot as plt\n",
    "\n",
    "import numpy  as np\n",
    "import pandas as pd\n",
    "\n",
    "import os\n",
    "\n",
    "DETDIR='results/Main/google'\n",
    "#ANNDIR='Annotations'\n",
    "#TRIDIR='ImageSets/Main/'"
   ]
  },
  {
   "cell_type": "code",
   "execution_count": null,
   "metadata": {
    "collapsed": true
   },
   "outputs": [],
   "source": [
    "detections = os.listdir(DETDIR)"
   ]
  },
  {
   "cell_type": "code",
   "execution_count": null,
   "metadata": {
    "collapsed": false
   },
   "outputs": [],
   "source": [
    "!ls $DETDIR"
   ]
  },
  {
   "cell_type": "code",
   "execution_count": null,
   "metadata": {
    "collapsed": true
   },
   "outputs": [],
   "source": [
    "frames = []\n",
    "for det in detections:\n",
    "    frames.append(pd.read_csv(os.path.join(DETDIR,det),\n",
    "                    delimiter=' ',names=['file','prob','xmin','ymin','xmax','ymax','pred_class']) )"
   ]
  },
  {
   "cell_type": "code",
   "execution_count": null,
   "metadata": {
    "collapsed": true
   },
   "outputs": [],
   "source": [
    "pred_df = pd.concat(frames,ignore_index=True)"
   ]
  },
  {
   "cell_type": "code",
   "execution_count": null,
   "metadata": {
    "collapsed": false
   },
   "outputs": [],
   "source": [
    "#Check a single result\n",
    "pred_df[pred_df.file == 'muminus008457'].sort('prob',ascending=False).iloc[0:5]"
   ]
  },
  {
   "cell_type": "code",
   "execution_count": null,
   "metadata": {
    "collapsed": false
   },
   "outputs": [],
   "source": [
    "pred_df.file.unique()"
   ]
  },
  {
   "cell_type": "code",
   "execution_count": null,
   "metadata": {
    "collapsed": true
   },
   "outputs": [],
   "source": [
    "import re\n",
    "truth = re.compile(\"^([a-z]+)[0-9]+\")\n",
    "pars = ['','eminus','proton','pizero','muminus','gamma']\n",
    "\n",
    "def get_gt(row): \n",
    "    return pars.index(truth.search(row.file).group(1))\n",
    "    "
   ]
  },
  {
   "cell_type": "code",
   "execution_count": null,
   "metadata": {
    "collapsed": true
   },
   "outputs": [],
   "source": [
    "# Go row by row and mark the groundtruth\n",
    "pred_df['gt'] = pred_df.apply(get_gt,axis=1)"
   ]
  },
  {
   "cell_type": "code",
   "execution_count": null,
   "metadata": {
    "collapsed": false
   },
   "outputs": [],
   "source": [
    "ious = []\n",
    "probs = []\n",
    "im = {}\n",
    "for ix,image in enumerate(pred_df.file.unique()):\n",
    "    df = pred_df[pred_df['file'] == image].sort('prob',ascending=False)\n",
    "    top = df.iloc[0] # take only the top prediction\n",
    "    \n",
    "    im[image] = {'gt':top['gt'],'top_pred_class':top['pred_class'],'top_prob':top['prob']}"
   ]
  },
  {
   "cell_type": "code",
   "execution_count": null,
   "metadata": {
    "collapsed": true
   },
   "outputs": [],
   "source": [
    "im_df = pd.DataFrame(im).T"
   ]
  },
  {
   "cell_type": "code",
   "execution_count": null,
   "metadata": {
    "collapsed": false
   },
   "outputs": [],
   "source": [
    "ar = lambda x, y : np.arange(0,x,y)"
   ]
  },
  {
   "cell_type": "code",
   "execution_count": null,
   "metadata": {
    "collapsed": false
   },
   "outputs": [],
   "source": [
    "matplotlib.rcParams['font.size']=14\n",
    "matplotlib.rcParams['font.family']='serif'"
   ]
  },
  {
   "cell_type": "code",
   "execution_count": null,
   "metadata": {
    "collapsed": false
   },
   "outputs": [],
   "source": [
    "inc = 0.01\n",
    "\n",
    "for pred in xrange(5):\n",
    "    pred += 1\n",
    "    a = {}\n",
    "    for i in xrange(5):\n",
    "        i += 1    \n",
    "        res = []\n",
    "        for j in ar(1,inc):\n",
    "            bot = im_df[im_df['top_pred_class'] == pred].query('top_prob > {}'.format(j))\n",
    "            top = bot.query('gt == {}'.format(i))\n",
    "            bot = float(bot.values.size)\n",
    "            top = float(top.values.size)\n",
    "            r = top/bot if bot > 0.0 else 0.0\n",
    "            res.append(r * 100.0)\n",
    "        a[i] = res\n",
    "    fig,ax = plt.subplots(figsize=(10,6))\n",
    "    ax.hist([ar(1,inc) for _ in range(5)],bins=ar(1+inc,inc),\n",
    "             weights=[a[r] for r in a],\n",
    "             stacked=True,histtype='stepfilled',alpha=0.65,label=[pars[r] for r in a])\n",
    "    ax.set_ylim(0,100)\n",
    "    ax.legend(loc='best',fontsize=12)\n",
    "    ax.set_title(\"FRCNN Detection: {}\".format(pars[pred]))\n",
    "    ax.set_ylabel(\"Percent Truth\")\n",
    "    ax.set_xlabel(\"Prob. Threshold\")\n",
    "    plt.savefig('detection_truth_{}.pdf'.format(pars[pred]), format='pdf', dpi=1000)\n",
    "    plt.show()"
   ]
  },
  {
   "cell_type": "code",
   "execution_count": null,
   "metadata": {
    "collapsed": false,
    "scrolled": false
   },
   "outputs": [],
   "source": [
    "inc = 0.01\n",
    "\n",
    "for pred in xrange(5):\n",
    "    pred += 1\n",
    "    a = {}\n",
    "    b = {}\n",
    "    for i in xrange(5):\n",
    "        i += 1    \n",
    "        res = []\n",
    "        ress = []\n",
    "        for j in ar(1,inc):\n",
    "            bot = im_df[im_df['gt'] == pred].query('top_prob > {}'.format(j))\n",
    "            top = bot.query('top_pred_class == {}'.format(i))\n",
    "            bot = float(bot.values.size)\n",
    "            top = float(top.values.size)\n",
    "            r = top/bot if bot > 0.0 else 0.0\n",
    "            res.append(r * 100.0)\n",
    "            ress.append(bot)\n",
    "        a[i] = res\n",
    "\n",
    "\n",
    "    fig,ax = plt.subplots(figsize=(10,6))\n",
    "    ax.hist([ar(1,inc) for _ in range(5)],bins=ar(1+inc,inc),\n",
    "             weights=[a[r] for r in a],stacked=True,histtype='stepfilled',alpha=0.65,label=[pars[r] for r in a])\n",
    "    ax.set_ylim(0,100)\n",
    "    ax.legend(loc='best',fontsize=12)\n",
    "    ax.set_title(\"Truth: {}\".format(pars[pred]))\n",
    "    ax.set_ylabel(\"Percent Detected\")\n",
    "    ax.set_xlabel(\"Prob. Threshold\")\n",
    "    plt.show()"
   ]
  }
 ],
 "metadata": {
  "kernelspec": {
   "display_name": "Python 2",
   "language": "python",
   "name": "python2"
  },
  "language_info": {
   "codemirror_mode": {
    "name": "ipython",
    "version": 2
   },
   "file_extension": ".py",
   "mimetype": "text/x-python",
   "name": "python",
   "nbconvert_exporter": "python",
   "pygments_lexer": "ipython2",
   "version": "2.7.10"
  }
 },
 "nbformat": 4,
 "nbformat_minor": 0
}
