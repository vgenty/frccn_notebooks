{
 "cells": [
  {
   "cell_type": "code",
   "execution_count": null,
   "metadata": {
    "collapsed": true
   },
   "outputs": [],
   "source": [
    "%matplotlib inline\n",
    "import matplotlib\n",
    "import matplotlib.pyplot as plt\n",
    "\n",
    "import numpy as np\n",
    "import pandas as pd"
   ]
  },
  {
   "cell_type": "code",
   "execution_count": null,
   "metadata": {
    "collapsed": false
   },
   "outputs": [],
   "source": [
    "kind = \"google\"\n",
    "df = pd.read_csv(\"google_test5_v2.prototxt_scores.txt\")"
   ]
  },
  {
   "cell_type": "code",
   "execution_count": null,
   "metadata": {
    "collapsed": false
   },
   "outputs": [],
   "source": [
    "def amax(row):\n",
    "    return int(np.argmax(row[1:]))\n",
    "\n",
    "df['infer'] = df.apply(amax,axis=1)"
   ]
  },
  {
   "cell_type": "code",
   "execution_count": null,
   "metadata": {
    "collapsed": false
   },
   "outputs": [],
   "source": [
    "particles = ['Eminus','Gamma','Muminus','Piminus','Proton']\n",
    "particles_df = {}\n",
    "\n",
    "for ix,p in enumerate(particles):\n",
    "    particles_df[p] = df.query('gt == {}'.format(ix))\n"
   ]
  },
  {
   "cell_type": "code",
   "execution_count": null,
   "metadata": {
    "collapsed": false
   },
   "outputs": [],
   "source": [
    "matplotlib.rcParams['font.size'] = 16\n",
    "freqs = []\n",
    "\n",
    "for par in particles:\n",
    "    fig, ax = plt.subplots(figsize=(10,6))\n",
    "    dec = []\n",
    "    n = float(particles_df[par].index.size)\n",
    "    for ix,p in enumerate(particles):\n",
    "        dec.append(particles_df[par].query('infer == %d' % ix).index.size / n)\n",
    "\n",
    "    ax.hist(np.arange(0,5.0,1.0),\n",
    "            bins=np.arange(0,6.0,1.0),\n",
    "            weights=np.array(dec)*100.0,label='True {}\\nN={}'.format(par,int(n)))\n",
    "    \n",
    "    freqs.append(dec)\n",
    "    \n",
    "    ax.set_ylim(0,100)\n",
    "    ax.yaxis.grid()\n",
    "    ax.set_ylabel(\"Classified %\",fontweight='bold')\n",
    "\n",
    "    ax.set_xticks(np.arange(0.5,5.5,1.0))\n",
    "    ax.set_xticklabels(particles)\n",
    "    \n",
    " \n",
    "    ax.legend(loc='best')\n",
    "    plt.savefig('single_plane_%d_class_%s_%s.pdf' %(len(particles),kind,par), format='pdf', dpi=1000)\n",
    "    plt.show()"
   ]
  },
  {
   "cell_type": "code",
   "execution_count": null,
   "metadata": {
    "collapsed": false
   },
   "outputs": [],
   "source": [
    "a = np.array(freqs)\n",
    "\n",
    "fig,ax = plt.subplots(figsize=(12,8))\n",
    "im = ax.matshow(np.array(a),origin='bottom')\n",
    "ax.xaxis.set_ticks_position('bottom')\n",
    "ax.set_xticklabels([''] + particles,rotation=45,fontweight='bold')\n",
    "ax.set_yticklabels([''] + particles,fontweight='bold')\n",
    "ax.set_title(\"Confusion Matrix\",fontweight='bold')\n",
    "plt.colorbar(im)\n",
    "plt.tight_layout()\n",
    "ax.text(4.5,2,\"Percent Fraction\",rotation=270,fontweight='bold')\n",
    "plt.savefig('5_class_confusion_matrix_%s.pdf'%kind, format='pdf', dpi=1000)\n",
    "plt.show()"
   ]
  }
 ],
 "metadata": {
  "kernelspec": {
   "display_name": "Python 2",
   "language": "python",
   "name": "python2"
  },
  "language_info": {
   "codemirror_mode": {
    "name": "ipython",
    "version": 2
   },
   "file_extension": ".py",
   "mimetype": "text/x-python",
   "name": "python",
   "nbconvert_exporter": "python",
   "pygments_lexer": "ipython2",
   "version": "2.7.10"
  }
 },
 "nbformat": 4,
 "nbformat_minor": 0
}
