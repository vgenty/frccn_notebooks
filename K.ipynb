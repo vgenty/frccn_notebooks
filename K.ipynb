{
 "cells": [
  {
   "cell_type": "code",
   "execution_count": null,
   "metadata": {
    "collapsed": true
   },
   "outputs": [],
   "source": [
    "%matplotlib inline\n",
    "\n",
    "import matplotlib\n",
    "import matplotlib.pyplot as plt\n",
    "\n",
    "import numpy  as np\n",
    "import pandas as pd\n",
    "\n",
    "import os\n",
    "\n",
    "DETDIR='results/Main/'\n",
    "ANNDIR='Annotations'\n",
    "models= ['google','alex']\n",
    "#models= ['resnet','alex']\n",
    "#compid = {'google': 'comp4_52a76347-ada9-4968-9279-9b9635ed5553',\n",
    "#          'alex'  : 'comp4_139dcae7-d1a3-4f30-b7e8-4c54028ae4a'}\n",
    "compid = {'google': 'comp4_da952d79-5af5-44dc-83de-605c7c6d9794',\n",
    "          'alex'  : 'comp4_139dcae7-d1a3-4f30-b7e8-4c54028ae4a'}\n",
    "pars = ['','eminus','proton','pizero','muminus','gamma']"
   ]
  },
  {
   "cell_type": "code",
   "execution_count": null,
   "metadata": {
    "collapsed": false
   },
   "outputs": [],
   "source": [
    "detections = {}\n",
    "for model in models:\n",
    "    #detections = {'google' : [f for f in os.listdir(DETDIR) if f.startswith(compid['google'])],\n",
    "    #              'alex'   : [f for f in os.listdir(DETDIR) if f.startswith(compid['alex'])] }\n",
    "    detections[model] = [f for f in os.listdir(DETDIR) if f.startswith(compid[model])]\n"
   ]
  },
  {
   "cell_type": "code",
   "execution_count": null,
   "metadata": {
    "collapsed": false
   },
   "outputs": [],
   "source": [
    "pre_frames = {}\n",
    "for model in models:\n",
    "    frames = []\n",
    "    for det in detections[model]:\n",
    "        frames.append(pd.read_csv(os.path.join(DETDIR,det),\n",
    "                                  delimiter=' ',names=['file','prob','xmin','ymin','xmax','ymax','pred_class']) )\n",
    "    pre_frames[model] = frames"
   ]
  },
  {
   "cell_type": "code",
   "execution_count": null,
   "metadata": {
    "collapsed": true
   },
   "outputs": [],
   "source": [
    "df_frames = {}\n",
    "for model in models:\n",
    "    pred_df = pd.concat(pre_frames[model],ignore_index=True)\n",
    "    df_frames[model] = pred_df"
   ]
  },
  {
   "cell_type": "code",
   "execution_count": null,
   "metadata": {
    "collapsed": false
   },
   "outputs": [],
   "source": [
    "#put the gt boxes into g\n",
    "g = {}\n",
    "for ix,image in enumerate(df_frames['google'].file.unique()):\n",
    "    data = None\n",
    "    with open(os.path.join(ANNDIR,image+\".txt\")) as f:\n",
    "        data = f.read()\n",
    "    data = data.split(\" \")[2:]\n",
    "    data = np.array(data,dtype=np.float64)\n",
    "    g[image] = data"
   ]
  },
  {
   "cell_type": "code",
   "execution_count": null,
   "metadata": {
    "collapsed": false
   },
   "outputs": [],
   "source": [
    "#Check a single result\n",
    "alex_df = df_frames['google']\n",
    "alex_df[alex_df['file'] == 'eminus014928'].sort_values(by='prob',ascending=False).iloc[0:5]"
   ]
  },
  {
   "cell_type": "code",
   "execution_count": null,
   "metadata": {
    "collapsed": false
   },
   "outputs": [],
   "source": [
    "#Check a single result\n",
    "alex_df = df_frames['alex']\n",
    "alex_df[alex_df['file'] == 'eminus014928'].sort_values(by='prob',ascending=False).iloc[0:5]"
   ]
  },
  {
   "cell_type": "code",
   "execution_count": null,
   "metadata": {
    "collapsed": true
   },
   "outputs": [],
   "source": [
    "import re\n",
    "truth = re.compile(\"^([a-z]+)[0-9]+\")\n",
    "\n",
    "def get_gt(row): \n",
    "    return pars.index(truth.search(row.file).group(1))"
   ]
  },
  {
   "cell_type": "code",
   "execution_count": null,
   "metadata": {
    "collapsed": true
   },
   "outputs": [],
   "source": [
    "def iou(bbox1,bbox2):\n",
    "    ixmin = np.maximum(bbox1[0], bbox2[0])\n",
    "    iymin = np.maximum(bbox1[1], bbox2[1])\n",
    "    ixmax = np.minimum(bbox1[2], bbox2[2])\n",
    "    iymax = np.minimum(bbox1[3], bbox2[3])\n",
    "\n",
    "    iw = np.maximum(ixmax - ixmin, 0.)\n",
    "    ih = np.maximum(iymax - iymin, 0.)\n",
    "\n",
    "    inters = iw*ih\n",
    "             # union                                                                                                        \n",
    "    uni = ((bbox1[2] - bbox1[0]) * (bbox1[3] - bbox1[1]) +\n",
    "           (bbox2[2] - bbox2[0]) *\n",
    "           (bbox2[3] - bbox2[1]) - inters)\n",
    "             # IoU                                                                                                          \n",
    "    iou = inters / uni\n",
    "    return iou\n",
    "\n",
    "def iou_row(row):\n",
    "    pred_bbox = np.array(row[['xmin','ymin','xmax','ymax']])\n",
    "    return iou(pred_bbox,g[row['file']])\n"
   ]
  },
  {
   "cell_type": "code",
   "execution_count": null,
   "metadata": {
    "collapsed": false
   },
   "outputs": [],
   "source": [
    "# Go row by row and mark the groundtruth\n",
    "\n",
    "for model in models:\n",
    "    the_df = df_frames[model]\n",
    "    the_df['gt'] = the_df.apply(get_gt,axis=1)\n",
    "# Go row by row and calculate iou, very slowly\n",
    "    the_df['iou'] = the_df.apply(iou_row,axis=1)"
   ]
  },
  {
   "cell_type": "code",
   "execution_count": null,
   "metadata": {
    "collapsed": false
   },
   "outputs": [],
   "source": [
    "ious = []\n",
    "probs = []\n",
    "im_df = {}\n",
    "for model in models:\n",
    "    pred_df = df_frames[model]\n",
    "    im = {}\n",
    "    for ix,image in enumerate(pred_df.file.unique()):\n",
    "        df = pred_df[pred_df['file'] == image].sort_values(by='prob',ascending=False)\n",
    "        top = df.iloc[0] # take only the top prediction\n",
    "        im[image] = {'gt':top['gt'],'top_pred_class':top['pred_class'],'top_iou':top['iou'],'top_prob':top['prob']}\n",
    "        \n",
    "    im_df[model] = pd.DataFrame(im).T"
   ]
  },
  {
   "cell_type": "code",
   "execution_count": null,
   "metadata": {
    "collapsed": false
   },
   "outputs": [],
   "source": [
    "ar = lambda x, y : np.arange(0,x,y)"
   ]
  },
  {
   "cell_type": "code",
   "execution_count": null,
   "metadata": {
    "collapsed": false
   },
   "outputs": [],
   "source": [
    "matplotlib.rcParams['font.size']=14\n",
    "matplotlib.rcParams['font.family']='serif'"
   ]
  },
  {
   "cell_type": "code",
   "execution_count": null,
   "metadata": {
    "collapsed": false,
    "scrolled": true
   },
   "outputs": [],
   "source": [
    "inc = 0.01\n",
    "\n",
    "npars = len(pars) - 1\n",
    "for pred in xrange(npars):\n",
    "    pred += 1\n",
    "    a = {}\n",
    "    c = 0\n",
    "    fig,ax = plt.subplots(figsize=(15,6))\n",
    "    for model in models:\n",
    "        c+=1\n",
    "        model_df = im_df[model]\n",
    "        ax = plt.subplot(1,2,c)\n",
    "\n",
    "        for i in xrange(npars):\n",
    "            i += 1    \n",
    "            res = []\n",
    "            for j in ar(1,inc):\n",
    "                bot = model_df[model_df['top_pred_class'] == pred].query('top_prob > {}'.format(j))\n",
    "                top = bot.query('gt == {}'.format(i))\n",
    "                bot = float(bot.values.size)\n",
    "                top = float(top.values.size)\n",
    "                r = top/bot if bot > 0.0 else 0.0\n",
    "                res.append(r * 100.0)\n",
    "                a[i] = res\n",
    "\n",
    "\n",
    "        ax.hist([ar(1,inc) for _ in range(npars)],bins=ar(1+inc,inc),\n",
    "                weights=[a[r] for r in a],\n",
    "                stacked=True,histtype='stepfilled',alpha=0.65,label=[pars[r] for r in a])\n",
    "        ax.set_ylim(0,100)\n",
    "        ax.legend(loc='best',fontsize=12)\n",
    "        \n",
    "        ax.set_title(\"Detection: {} - Model: {}\".format(pars[pred],model),fontweight='bold')\n",
    "        ax.set_ylabel(\"Percent Truth\",fontweight='bold')\n",
    "        ax.set_xlabel(\"Prob. Threshold\",fontweight='bold')\n",
    "    plt.savefig('{}_google5_4b_alt_opt_detection_truth_{}_{}.pdf'.format(model,pars[pred],npars), format='pdf', dpi=1000)\n",
    "    plt.show()"
   ]
  },
  {
   "cell_type": "code",
   "execution_count": null,
   "metadata": {
    "collapsed": false,
    "scrolled": true
   },
   "outputs": [],
   "source": [
    "inc = 0.01\n",
    "\n",
    "npars = len(pars) - 1\n",
    "for pred in xrange(npars):\n",
    "    pred += 1\n",
    "    a = {}\n",
    "    c = 0\n",
    "    fig,ax = plt.subplots(figsize=(15,6))\n",
    "    for model in models:\n",
    "        c+=1\n",
    "        model_df = im_df[model]\n",
    "        ax = plt.subplot(1,2,c)\n",
    "\n",
    "        for i in xrange(npars):\n",
    "            i += 1    \n",
    "            res = []\n",
    "            for j in ar(1,inc):\n",
    "                bot = model_df[model_df['gt'] == pred].query('top_prob > {}'.format(j))\n",
    "                top = bot.query('top_pred_class == {}'.format(i))\n",
    "                bot = float(bot.values.size)\n",
    "                top = float(top.values.size)\n",
    "                r = top/bot if bot > 0.0 else 0.0\n",
    "                res.append(r * 100.0)\n",
    "                a[i] = res\n",
    "\n",
    "        ax.hist([ar(1,inc) for _ in range(npars)],bins=ar(1+inc,inc),\n",
    "                weights=[a[r] for r in a],\n",
    "                stacked=True,histtype='stepfilled',alpha=0.65,label=[pars[r] for r in a])\n",
    "        ax.set_ylim(0,100)\n",
    "        ax.legend(loc='best',fontsize=12)\n",
    "        \n",
    "        ax.set_title(\"Truth: {} - Model: {}\".format(pars[pred],model),fontweight='bold')\n",
    "        ax.set_ylabel(\"Percent Detected\",fontweight='bold')\n",
    "        ax.set_xlabel(\"Prob. Threshold\",fontweight='bold')\n",
    "    plt.savefig('{}_google__truth_alt_opt_detection_{}_{}.pdf'.format(model,pars[pred],npars), format='pdf', dpi=1000)\n",
    "    plt.show()"
   ]
  },
  {
   "cell_type": "code",
   "execution_count": null,
   "metadata": {
    "collapsed": false,
    "scrolled": false
   },
   "outputs": [],
   "source": [
    "tparts = {}\n",
    "for model in models:\n",
    "    the_df = im_df[model]\n",
    "    true_particle = [the_df[the_df['gt']==i] for i in xrange(len(pars)) if i != 0]\n",
    "    tparts[model] = true_particle\n",
    "\n",
    "pthresh = 0.50\n",
    "c = 0\n",
    "for model in models:\n",
    "    #fig, ax = plt.subplots(figsize=(10,6))\n",
    "    c +=1\n",
    "    #ax = plt.subplot(1,2,c)\n",
    "    for ix, tpar in enumerate(tparts[model]):\n",
    "        fig, ax = plt.subplots(figsize=(10,6))\n",
    "        ii  = ix\n",
    "        ii += 1\n",
    "        divs = 0.01\n",
    "        ntot = float(tpar.index.values.size)\n",
    "        for i in xrange(5):\n",
    "            i+=1\n",
    "            s = tpar[ tpar['top_pred_class'] == i ][ tpar['top_prob'] >= pthresh]\n",
    "            nn = s.top_iou.values.size\n",
    "            ax.hist(s.top_iou.values,\n",
    "                    bins=np.arange(0,1.0+divs,divs),\n",
    "                    label='Detected: {}\\nFrac: {:.2f}'.format(pars[i],\n",
    "                                                          nn/ntot),\n",
    "                    alpha=0.5)\n",
    "        \n",
    "        ax.set_title(\"Truth: {} Model: {}\".format(pars[ii],model),fontweight='bold')\n",
    "        ax.set_xlabel(\"IoU @ Prob Thresh: {}\".format(pthresh),fontweight='bold')\n",
    "        ax.legend(loc='best',fontsize=14)\n",
    "        plt.tight_layout()\n",
    "        plt.savefig('IOU_{}_google_updated_{}.pdf'.format(model,pars[ii]), format='pdf', dpi=1000) \n",
    "        plt.show()"
   ]
  },
  {
   "cell_type": "code",
   "execution_count": null,
   "metadata": {
    "collapsed": true
   },
   "outputs": [],
   "source": []
  }
 ],
 "metadata": {
  "kernelspec": {
   "display_name": "Python 2",
   "language": "python",
   "name": "python2"
  },
  "language_info": {
   "codemirror_mode": {
    "name": "ipython",
    "version": 2
   },
   "file_extension": ".py",
   "mimetype": "text/x-python",
   "name": "python",
   "nbconvert_exporter": "python",
   "pygments_lexer": "ipython2",
   "version": "2.7.10"
  }
 },
 "nbformat": 4,
 "nbformat_minor": 0
}
